{
 "cells": [
  {
   "cell_type": "markdown",
   "metadata": {},
   "source": [
    "#### A project on data visualization and derieving data insights through graphical plots and charts from healthcare service sales dataset. \n",
    "#### The product is a healthcare diagnostic service and customers  are different hospitals who has availed the healthcare service.\n",
    "\n",
    "#### The project is divided into following sections:\n",
    "#### &emsp;&emsp;&emsp;1. Fectching Data - Fectching the database\n",
    "#### &emsp;&emsp;&emsp;2. data preprocessing - Transforming the crude data into desired format \n",
    "#### &emsp;&emsp;&emsp;3. Data visualization and analysis - Visualizing data graphically and deriving analytical insights"
   ]
  },
  {
   "cell_type": "markdown",
   "metadata": {},
   "source": [
    "# Fetching Data"
   ]
  },
  {
   "cell_type": "code",
   "execution_count": 1,
   "metadata": {},
   "outputs": [],
   "source": [
    "import pandas as pd\n",
    "import numpy as np\n",
    "import seaborn as sb\n",
    "import matplotlib.pyplot as plt\n",
    "import datetime as dt\n",
    "\n",
    "%matplotlib inline\n",
    "%reload_ext autoreload\n",
    "%autoreload 2"
   ]
  },
  {
   "cell_type": "code",
   "execution_count": 2,
   "metadata": {},
   "outputs": [
    {
     "data": {
      "text/html": [
       "<div>\n",
       "<style scoped>\n",
       "    .dataframe tbody tr th:only-of-type {\n",
       "        vertical-align: middle;\n",
       "    }\n",
       "\n",
       "    .dataframe tbody tr th {\n",
       "        vertical-align: top;\n",
       "    }\n",
       "\n",
       "    .dataframe thead th {\n",
       "        text-align: right;\n",
       "    }\n",
       "</style>\n",
       "<table border=\"1\" class=\"dataframe\">\n",
       "  <thead>\n",
       "    <tr style=\"text-align: right;\">\n",
       "      <th></th>\n",
       "      <th>Invoice ID</th>\n",
       "      <th>Date</th>\n",
       "      <th>City</th>\n",
       "      <th>Hospital</th>\n",
       "      <th>Unit price</th>\n",
       "      <th>Quantity</th>\n",
       "      <th>Total</th>\n",
       "      <th>Payment</th>\n",
       "      <th>Referral_amount</th>\n",
       "      <th>Rating</th>\n",
       "    </tr>\n",
       "  </thead>\n",
       "  <tbody>\n",
       "    <tr>\n",
       "      <th>0</th>\n",
       "      <td>750-67-8428</td>\n",
       "      <td>01/05/2019</td>\n",
       "      <td>Bangalore</td>\n",
       "      <td>H4</td>\n",
       "      <td>1800</td>\n",
       "      <td>7</td>\n",
       "      <td>12600</td>\n",
       "      <td>A/c</td>\n",
       "      <td>0</td>\n",
       "      <td>9.1</td>\n",
       "    </tr>\n",
       "    <tr>\n",
       "      <th>1</th>\n",
       "      <td>226-31-3081</td>\n",
       "      <td>03/08/2019</td>\n",
       "      <td>Bangalore</td>\n",
       "      <td>H1</td>\n",
       "      <td>1500</td>\n",
       "      <td>5</td>\n",
       "      <td>7500</td>\n",
       "      <td>A/c</td>\n",
       "      <td>200</td>\n",
       "      <td>9.6</td>\n",
       "    </tr>\n",
       "    <tr>\n",
       "      <th>2</th>\n",
       "      <td>631-41-3108</td>\n",
       "      <td>03/03/2019</td>\n",
       "      <td>Bangalore</td>\n",
       "      <td>H5</td>\n",
       "      <td>1600</td>\n",
       "      <td>7</td>\n",
       "      <td>11200</td>\n",
       "      <td>Cash</td>\n",
       "      <td>0</td>\n",
       "      <td>7.4</td>\n",
       "    </tr>\n",
       "    <tr>\n",
       "      <th>3</th>\n",
       "      <td>123-19-1176</td>\n",
       "      <td>01/27/2019</td>\n",
       "      <td>Bangalore</td>\n",
       "      <td>H4</td>\n",
       "      <td>1800</td>\n",
       "      <td>8</td>\n",
       "      <td>14400</td>\n",
       "      <td>A/c</td>\n",
       "      <td>0</td>\n",
       "      <td>8.4</td>\n",
       "    </tr>\n",
       "    <tr>\n",
       "      <th>4</th>\n",
       "      <td>373-73-7910</td>\n",
       "      <td>02/08/2019</td>\n",
       "      <td>Bangalore</td>\n",
       "      <td>H6</td>\n",
       "      <td>1500</td>\n",
       "      <td>7</td>\n",
       "      <td>10500</td>\n",
       "      <td>Cash</td>\n",
       "      <td>0</td>\n",
       "      <td>5.3</td>\n",
       "    </tr>\n",
       "  </tbody>\n",
       "</table>\n",
       "</div>"
      ],
      "text/plain": [
       "    Invoice ID        Date       City Hospital  Unit price  Quantity  Total  \\\n",
       "0  750-67-8428  01/05/2019  Bangalore       H4        1800         7  12600   \n",
       "1  226-31-3081  03/08/2019  Bangalore       H1        1500         5   7500   \n",
       "2  631-41-3108  03/03/2019  Bangalore       H5        1600         7  11200   \n",
       "3  123-19-1176  01/27/2019  Bangalore       H4        1800         8  14400   \n",
       "4  373-73-7910  02/08/2019  Bangalore       H6        1500         7  10500   \n",
       "\n",
       "  Payment  Referral_amount  Rating  \n",
       "0     A/c                0     9.1  \n",
       "1     A/c              200     9.6  \n",
       "2    Cash                0     7.4  \n",
       "3     A/c                0     8.4  \n",
       "4    Cash                0     5.3  "
      ]
     },
     "execution_count": 2,
     "metadata": {},
     "output_type": "execute_result"
    }
   ],
   "source": [
    "sales = pd.read_excel('datasets/health/Healthcare_sector.xlsx', date_parser='Date', sheet_name='Sales')\n",
    "sales.head()"
   ]
  },
  {
   "cell_type": "code",
   "execution_count": 3,
   "metadata": {},
   "outputs": [
    {
     "data": {
      "text/plain": [
       "Invoice ID          object\n",
       "Date                object\n",
       "City                object\n",
       "Hospital            object\n",
       "Unit price           int64\n",
       "Quantity             int64\n",
       "Total                int64\n",
       "Payment             object\n",
       "Referral_amount      int64\n",
       "Rating             float64\n",
       "dtype: object"
      ]
     },
     "execution_count": 3,
     "metadata": {},
     "output_type": "execute_result"
    }
   ],
   "source": [
    "sales.dtypes"
   ]
  },
  {
   "cell_type": "code",
   "execution_count": 4,
   "metadata": {},
   "outputs": [
    {
     "name": "stdout",
     "output_type": "stream",
     "text": [
      "['Invoice ID', 'Date', 'City', 'Hospital', 'Unit price', 'Quantity', 'Total', 'Payment', 'Referral_amount', 'Rating']\n"
     ]
    }
   ],
   "source": [
    "print(list(sales.columns))"
   ]
  },
  {
   "cell_type": "code",
   "execution_count": 5,
   "metadata": {},
   "outputs": [],
   "source": [
    "sales.drop(['Invoice ID', 'City'], axis=1, inplace=True)"
   ]
  },
  {
   "cell_type": "code",
   "execution_count": 6,
   "metadata": {},
   "outputs": [
    {
     "data": {
      "text/html": [
       "<div>\n",
       "<style scoped>\n",
       "    .dataframe tbody tr th:only-of-type {\n",
       "        vertical-align: middle;\n",
       "    }\n",
       "\n",
       "    .dataframe tbody tr th {\n",
       "        vertical-align: top;\n",
       "    }\n",
       "\n",
       "    .dataframe thead th {\n",
       "        text-align: right;\n",
       "    }\n",
       "</style>\n",
       "<table border=\"1\" class=\"dataframe\">\n",
       "  <thead>\n",
       "    <tr style=\"text-align: right;\">\n",
       "      <th></th>\n",
       "      <th>Hospital</th>\n",
       "      <th>Unit price</th>\n",
       "      <th>Quantity</th>\n",
       "      <th>Total</th>\n",
       "      <th>Payment</th>\n",
       "      <th>Referral_amount</th>\n",
       "      <th>Rating</th>\n",
       "    </tr>\n",
       "    <tr>\n",
       "      <th>Date</th>\n",
       "      <th></th>\n",
       "      <th></th>\n",
       "      <th></th>\n",
       "      <th></th>\n",
       "      <th></th>\n",
       "      <th></th>\n",
       "      <th></th>\n",
       "    </tr>\n",
       "  </thead>\n",
       "  <tbody>\n",
       "    <tr>\n",
       "      <th>2019-01-05</th>\n",
       "      <td>H4</td>\n",
       "      <td>1800</td>\n",
       "      <td>7</td>\n",
       "      <td>12600</td>\n",
       "      <td>A/c</td>\n",
       "      <td>0</td>\n",
       "      <td>9.1</td>\n",
       "    </tr>\n",
       "    <tr>\n",
       "      <th>2019-03-08</th>\n",
       "      <td>H1</td>\n",
       "      <td>1500</td>\n",
       "      <td>5</td>\n",
       "      <td>7500</td>\n",
       "      <td>A/c</td>\n",
       "      <td>200</td>\n",
       "      <td>9.6</td>\n",
       "    </tr>\n",
       "    <tr>\n",
       "      <th>2019-03-03</th>\n",
       "      <td>H5</td>\n",
       "      <td>1600</td>\n",
       "      <td>7</td>\n",
       "      <td>11200</td>\n",
       "      <td>Cash</td>\n",
       "      <td>0</td>\n",
       "      <td>7.4</td>\n",
       "    </tr>\n",
       "    <tr>\n",
       "      <th>2019-01-27</th>\n",
       "      <td>H4</td>\n",
       "      <td>1800</td>\n",
       "      <td>8</td>\n",
       "      <td>14400</td>\n",
       "      <td>A/c</td>\n",
       "      <td>0</td>\n",
       "      <td>8.4</td>\n",
       "    </tr>\n",
       "    <tr>\n",
       "      <th>2019-02-08</th>\n",
       "      <td>H6</td>\n",
       "      <td>1500</td>\n",
       "      <td>7</td>\n",
       "      <td>10500</td>\n",
       "      <td>Cash</td>\n",
       "      <td>0</td>\n",
       "      <td>5.3</td>\n",
       "    </tr>\n",
       "  </tbody>\n",
       "</table>\n",
       "</div>"
      ],
      "text/plain": [
       "           Hospital  Unit price  Quantity  Total Payment  Referral_amount  \\\n",
       "Date                                                                        \n",
       "2019-01-05       H4        1800         7  12600     A/c                0   \n",
       "2019-03-08       H1        1500         5   7500     A/c              200   \n",
       "2019-03-03       H5        1600         7  11200    Cash                0   \n",
       "2019-01-27       H4        1800         8  14400     A/c                0   \n",
       "2019-02-08       H6        1500         7  10500    Cash                0   \n",
       "\n",
       "            Rating  \n",
       "Date                \n",
       "2019-01-05     9.1  \n",
       "2019-03-08     9.6  \n",
       "2019-03-03     7.4  \n",
       "2019-01-27     8.4  \n",
       "2019-02-08     5.3  "
      ]
     },
     "execution_count": 6,
     "metadata": {},
     "output_type": "execute_result"
    }
   ],
   "source": [
    "sales['Date'] = pd.to_datetime(sales['Date'])\n",
    "sales.set_index('Date', inplace=True)\n",
    "sales.head()"
   ]
  },
  {
   "cell_type": "markdown",
   "metadata": {},
   "source": [
    "# Data preprocessing"
   ]
  },
  {
   "cell_type": "markdown",
   "metadata": {},
   "source": [
    "### converting daily data to monthly data (resampling)"
   ]
  },
  {
   "cell_type": "code",
   "execution_count": 77,
   "metadata": {},
   "outputs": [],
   "source": [
    "agg_params = {'Quantity': np.sum, 'Unit price':'last', 'Total': np.sum, 'Rating': [np.min, np.max]}\n",
    "monthly_sales = sales.groupby('Hospital').resample('1M').agg(agg_params)\n",
    "monthly_sales.columns = ['Total_volume', 'Unit_price', 'Total_revenue', 'Min_rating', 'Max_rating']"
   ]
  },
  {
   "cell_type": "code",
   "execution_count": 293,
   "metadata": {},
   "outputs": [
    {
     "data": {
      "text/html": [
       "<div>\n",
       "<style scoped>\n",
       "    .dataframe tbody tr th:only-of-type {\n",
       "        vertical-align: middle;\n",
       "    }\n",
       "\n",
       "    .dataframe tbody tr th {\n",
       "        vertical-align: top;\n",
       "    }\n",
       "\n",
       "    .dataframe thead th {\n",
       "        text-align: right;\n",
       "    }\n",
       "</style>\n",
       "<table border=\"1\" class=\"dataframe\">\n",
       "  <thead>\n",
       "    <tr style=\"text-align: right;\">\n",
       "      <th></th>\n",
       "      <th></th>\n",
       "      <th>Total_volume</th>\n",
       "      <th>Unit_price</th>\n",
       "      <th>Total_revenue</th>\n",
       "      <th>Min_rating</th>\n",
       "      <th>Max_rating</th>\n",
       "    </tr>\n",
       "    <tr>\n",
       "      <th>Hospital</th>\n",
       "      <th>Date</th>\n",
       "      <th></th>\n",
       "      <th></th>\n",
       "      <th></th>\n",
       "      <th></th>\n",
       "      <th></th>\n",
       "    </tr>\n",
       "  </thead>\n",
       "  <tbody>\n",
       "    <tr>\n",
       "      <th rowspan=\"3\" valign=\"top\">H1</th>\n",
       "      <th>2019-01-31</th>\n",
       "      <td>333</td>\n",
       "      <td>1500</td>\n",
       "      <td>499500</td>\n",
       "      <td>4.0</td>\n",
       "      <td>9.8</td>\n",
       "    </tr>\n",
       "    <tr>\n",
       "      <th>2019-02-28</th>\n",
       "      <td>313</td>\n",
       "      <td>1500</td>\n",
       "      <td>469500</td>\n",
       "      <td>4.1</td>\n",
       "      <td>10.0</td>\n",
       "    </tr>\n",
       "    <tr>\n",
       "      <th>2019-03-31</th>\n",
       "      <td>325</td>\n",
       "      <td>1500</td>\n",
       "      <td>487500</td>\n",
       "      <td>4.1</td>\n",
       "      <td>9.9</td>\n",
       "    </tr>\n",
       "    <tr>\n",
       "      <th rowspan=\"3\" valign=\"top\">H2</th>\n",
       "      <th>2019-01-31</th>\n",
       "      <td>336</td>\n",
       "      <td>1800</td>\n",
       "      <td>604800</td>\n",
       "      <td>4.1</td>\n",
       "      <td>9.9</td>\n",
       "    </tr>\n",
       "    <tr>\n",
       "      <th>2019-02-28</th>\n",
       "      <td>295</td>\n",
       "      <td>1800</td>\n",
       "      <td>531000</td>\n",
       "      <td>4.0</td>\n",
       "      <td>9.7</td>\n",
       "    </tr>\n",
       "    <tr>\n",
       "      <th>2019-03-31</th>\n",
       "      <td>271</td>\n",
       "      <td>1800</td>\n",
       "      <td>487800</td>\n",
       "      <td>4.0</td>\n",
       "      <td>9.9</td>\n",
       "    </tr>\n",
       "    <tr>\n",
       "      <th rowspan=\"3\" valign=\"top\">H3</th>\n",
       "      <th>2019-01-31</th>\n",
       "      <td>325</td>\n",
       "      <td>1300</td>\n",
       "      <td>422500</td>\n",
       "      <td>4.0</td>\n",
       "      <td>9.9</td>\n",
       "    </tr>\n",
       "    <tr>\n",
       "      <th>2019-02-28</th>\n",
       "      <td>349</td>\n",
       "      <td>1300</td>\n",
       "      <td>453700</td>\n",
       "      <td>4.1</td>\n",
       "      <td>9.9</td>\n",
       "    </tr>\n",
       "    <tr>\n",
       "      <th>2019-03-31</th>\n",
       "      <td>278</td>\n",
       "      <td>1300</td>\n",
       "      <td>361400</td>\n",
       "      <td>4.0</td>\n",
       "      <td>9.9</td>\n",
       "    </tr>\n",
       "    <tr>\n",
       "      <th>H4</th>\n",
       "      <th>2019-01-31</th>\n",
       "      <td>254</td>\n",
       "      <td>1800</td>\n",
       "      <td>457200</td>\n",
       "      <td>4.0</td>\n",
       "      <td>9.9</td>\n",
       "    </tr>\n",
       "  </tbody>\n",
       "</table>\n",
       "</div>"
      ],
      "text/plain": [
       "                     Total_volume  Unit_price  Total_revenue  Min_rating  \\\n",
       "Hospital Date                                                              \n",
       "H1       2019-01-31           333        1500         499500         4.0   \n",
       "         2019-02-28           313        1500         469500         4.1   \n",
       "         2019-03-31           325        1500         487500         4.1   \n",
       "H2       2019-01-31           336        1800         604800         4.1   \n",
       "         2019-02-28           295        1800         531000         4.0   \n",
       "         2019-03-31           271        1800         487800         4.0   \n",
       "H3       2019-01-31           325        1300         422500         4.0   \n",
       "         2019-02-28           349        1300         453700         4.1   \n",
       "         2019-03-31           278        1300         361400         4.0   \n",
       "H4       2019-01-31           254        1800         457200         4.0   \n",
       "\n",
       "                     Max_rating  \n",
       "Hospital Date                    \n",
       "H1       2019-01-31         9.8  \n",
       "         2019-02-28        10.0  \n",
       "         2019-03-31         9.9  \n",
       "H2       2019-01-31         9.9  \n",
       "         2019-02-28         9.7  \n",
       "         2019-03-31         9.9  \n",
       "H3       2019-01-31         9.9  \n",
       "         2019-02-28         9.9  \n",
       "         2019-03-31         9.9  \n",
       "H4       2019-01-31         9.9  "
      ]
     },
     "execution_count": 293,
     "metadata": {},
     "output_type": "execute_result"
    }
   ],
   "source": [
    "monthly_sales.head(10)"
   ]
  },
  {
   "cell_type": "code",
   "execution_count": 297,
   "metadata": {},
   "outputs": [
    {
     "data": {
      "text/html": [
       "<div>\n",
       "<style scoped>\n",
       "    .dataframe tbody tr th:only-of-type {\n",
       "        vertical-align: middle;\n",
       "    }\n",
       "\n",
       "    .dataframe tbody tr th {\n",
       "        vertical-align: top;\n",
       "    }\n",
       "\n",
       "    .dataframe thead th {\n",
       "        text-align: right;\n",
       "    }\n",
       "</style>\n",
       "<table border=\"1\" class=\"dataframe\">\n",
       "  <thead>\n",
       "    <tr style=\"text-align: right;\">\n",
       "      <th></th>\n",
       "      <th>Hospital</th>\n",
       "      <th>Date</th>\n",
       "      <th>Total_volume</th>\n",
       "      <th>Unit_price</th>\n",
       "      <th>Total_revenue</th>\n",
       "      <th>Min_rating</th>\n",
       "      <th>Max_rating</th>\n",
       "    </tr>\n",
       "  </thead>\n",
       "  <tbody>\n",
       "    <tr>\n",
       "      <th>0</th>\n",
       "      <td>H1</td>\n",
       "      <td>2019-01</td>\n",
       "      <td>333</td>\n",
       "      <td>1500</td>\n",
       "      <td>499500</td>\n",
       "      <td>4.0</td>\n",
       "      <td>9.8</td>\n",
       "    </tr>\n",
       "    <tr>\n",
       "      <th>1</th>\n",
       "      <td>H2</td>\n",
       "      <td>2019-01</td>\n",
       "      <td>336</td>\n",
       "      <td>1800</td>\n",
       "      <td>604800</td>\n",
       "      <td>4.1</td>\n",
       "      <td>9.9</td>\n",
       "    </tr>\n",
       "    <tr>\n",
       "      <th>2</th>\n",
       "      <td>H3</td>\n",
       "      <td>2019-01</td>\n",
       "      <td>325</td>\n",
       "      <td>1300</td>\n",
       "      <td>422500</td>\n",
       "      <td>4.0</td>\n",
       "      <td>9.9</td>\n",
       "    </tr>\n",
       "    <tr>\n",
       "      <th>3</th>\n",
       "      <td>H4</td>\n",
       "      <td>2019-01</td>\n",
       "      <td>254</td>\n",
       "      <td>1800</td>\n",
       "      <td>457200</td>\n",
       "      <td>4.0</td>\n",
       "      <td>9.9</td>\n",
       "    </tr>\n",
       "    <tr>\n",
       "      <th>4</th>\n",
       "      <td>H5</td>\n",
       "      <td>2019-01</td>\n",
       "      <td>342</td>\n",
       "      <td>1600</td>\n",
       "      <td>547200</td>\n",
       "      <td>4.1</td>\n",
       "      <td>9.8</td>\n",
       "    </tr>\n",
       "    <tr>\n",
       "      <th>5</th>\n",
       "      <td>H6</td>\n",
       "      <td>2019-01</td>\n",
       "      <td>375</td>\n",
       "      <td>1500</td>\n",
       "      <td>562500</td>\n",
       "      <td>4.1</td>\n",
       "      <td>9.9</td>\n",
       "    </tr>\n",
       "    <tr>\n",
       "      <th>6</th>\n",
       "      <td>H1</td>\n",
       "      <td>2019-02</td>\n",
       "      <td>313</td>\n",
       "      <td>1500</td>\n",
       "      <td>469500</td>\n",
       "      <td>4.1</td>\n",
       "      <td>10.0</td>\n",
       "    </tr>\n",
       "    <tr>\n",
       "      <th>7</th>\n",
       "      <td>H2</td>\n",
       "      <td>2019-02</td>\n",
       "      <td>295</td>\n",
       "      <td>1800</td>\n",
       "      <td>531000</td>\n",
       "      <td>4.0</td>\n",
       "      <td>9.7</td>\n",
       "    </tr>\n",
       "    <tr>\n",
       "      <th>8</th>\n",
       "      <td>H3</td>\n",
       "      <td>2019-02</td>\n",
       "      <td>349</td>\n",
       "      <td>1300</td>\n",
       "      <td>453700</td>\n",
       "      <td>4.1</td>\n",
       "      <td>9.9</td>\n",
       "    </tr>\n",
       "    <tr>\n",
       "      <th>9</th>\n",
       "      <td>H4</td>\n",
       "      <td>2019-02</td>\n",
       "      <td>266</td>\n",
       "      <td>1800</td>\n",
       "      <td>478800</td>\n",
       "      <td>4.1</td>\n",
       "      <td>10.0</td>\n",
       "    </tr>\n",
       "  </tbody>\n",
       "</table>\n",
       "</div>"
      ],
      "text/plain": [
       "  Hospital     Date  Total_volume  Unit_price  Total_revenue  Min_rating  \\\n",
       "0       H1  2019-01           333        1500         499500         4.0   \n",
       "1       H2  2019-01           336        1800         604800         4.1   \n",
       "2       H3  2019-01           325        1300         422500         4.0   \n",
       "3       H4  2019-01           254        1800         457200         4.0   \n",
       "4       H5  2019-01           342        1600         547200         4.1   \n",
       "5       H6  2019-01           375        1500         562500         4.1   \n",
       "6       H1  2019-02           313        1500         469500         4.1   \n",
       "7       H2  2019-02           295        1800         531000         4.0   \n",
       "8       H3  2019-02           349        1300         453700         4.1   \n",
       "9       H4  2019-02           266        1800         478800         4.1   \n",
       "\n",
       "   Max_rating  \n",
       "0         9.8  \n",
       "1         9.9  \n",
       "2         9.9  \n",
       "3         9.9  \n",
       "4         9.8  \n",
       "5         9.9  \n",
       "6        10.0  \n",
       "7         9.7  \n",
       "8         9.9  \n",
       "9        10.0  "
      ]
     },
     "execution_count": 297,
     "metadata": {},
     "output_type": "execute_result"
    }
   ],
   "source": [
    "# Reorganizing data\n",
    "monthly_sales_sorted = monthly_sales.sort_index(level=1)\n",
    "monthly_sales_sorted.reset_index(inplace=True)\n",
    "monthly_sales_sorted.Date = [x.strftime('%Y-%m') for x in monthly_sales_sorted.Date]\n",
    "monthly_sales_sorted.head(10)"
   ]
  },
  {
   "cell_type": "markdown",
   "metadata": {},
   "source": [
    "# Data visualization and analysis\n",
    "\n",
    "### The insights I have tried to derieve in this section are:\n",
    "### &emsp;&emsp;&emsp;1. General trend in the data for 3 months period\n",
    "### &emsp;&emsp;&emsp;2. Month wise total sales\n",
    "### &emsp;&emsp;&emsp;3. Hospital wise total sales\n",
    "### &emsp;&emsp;&emsp;4. Percentage contribution of each hospital to overall revenue\n",
    "### &emsp;&emsp;&emsp;5. Month wise sales comparison of each hospital\n",
    "### &emsp;&emsp;&emsp;6. Month revenue vs volume relationship of each hospital\n",
    "### &emsp;&emsp;&emsp;7. Month wise relationship between revenue vs volume and unit price of each hospital"
   ]
  },
  {
   "cell_type": "markdown",
   "metadata": {},
   "source": [
    "### Determining trend"
   ]
  },
  {
   "cell_type": "code",
   "execution_count": 88,
   "metadata": {},
   "outputs": [
    {
     "data": {
      "image/png": "[encoded data removed]",
      "text/plain": [
       "<Figure size 720x288 with 2 Axes>"
      ]
     },
     "metadata": {
      "needs_background": "light"
     },
     "output_type": "display_data"
    }
   ],
   "source": [
    "fig, ax = plt.subplots(2, 1, figsize=(10,4), sharex=True)\n",
    "sb.lineplot(ax=ax[0], x='Date', y='Total_revenue', data=monthly_sales)\n",
    "var = plt.xticks(x=monthly_sales.index, rotation='vertical', size=10)\n",
    "\n",
    "sb.lineplot(ax=ax[1], x='Date', y='Total_volume', data=monthly_sales)\n",
    "var = plt.xticks(x=monthly_sales.index, rotation='vertical', size=10)"
   ]
  },
  {
   "cell_type": "markdown",
   "metadata": {},
   "source": [
    "#### we see first month revenue is high, it dips in second month and again increases in third month."
   ]
  },
  {
   "cell_type": "markdown",
   "metadata": {},
   "source": [
    "### Month wise total sales"
   ]
  },
  {
   "cell_type": "code",
   "execution_count": 92,
   "metadata": {},
   "outputs": [
    {
     "data": {
      "text/html": [
       "<div>\n",
       "<style scoped>\n",
       "    .dataframe tbody tr th:only-of-type {\n",
       "        vertical-align: middle;\n",
       "    }\n",
       "\n",
       "    .dataframe tbody tr th {\n",
       "        vertical-align: top;\n",
       "    }\n",
       "\n",
       "    .dataframe thead th {\n",
       "        text-align: right;\n",
       "    }\n",
       "</style>\n",
       "<table border=\"1\" class=\"dataframe\">\n",
       "  <thead>\n",
       "    <tr style=\"text-align: right;\">\n",
       "      <th></th>\n",
       "      <th>Total_volume</th>\n",
       "      <th>Total_revenue</th>\n",
       "    </tr>\n",
       "    <tr>\n",
       "      <th>Date</th>\n",
       "      <th></th>\n",
       "      <th></th>\n",
       "    </tr>\n",
       "  </thead>\n",
       "  <tbody>\n",
       "    <tr>\n",
       "      <th>2019-01</th>\n",
       "      <td>1965</td>\n",
       "      <td>3093700</td>\n",
       "    </tr>\n",
       "    <tr>\n",
       "      <th>2019-03</th>\n",
       "      <td>1891</td>\n",
       "      <td>2998800</td>\n",
       "    </tr>\n",
       "    <tr>\n",
       "      <th>2019-02</th>\n",
       "      <td>1654</td>\n",
       "      <td>2600000</td>\n",
       "    </tr>\n",
       "  </tbody>\n",
       "</table>\n",
       "</div>"
      ],
      "text/plain": [
       "         Total_volume  Total_revenue\n",
       "Date                                \n",
       "2019-01          1965        3093700\n",
       "2019-03          1891        2998800\n",
       "2019-02          1654        2600000"
      ]
     },
     "execution_count": 92,
     "metadata": {},
     "output_type": "execute_result"
    }
   ],
   "source": [
    "total_sales_by_month = monthly_sales_sorted[['Hospital', 'Date','Total_volume', 'Total_revenue']].groupby('Date').sum()\n",
    "total_sales_by_month.sort_values(by='Total_revenue', ascending=False, inplace=True)\n",
    "total_sales_by_month.head()"
   ]
  },
  {
   "cell_type": "code",
   "execution_count": 288,
   "metadata": {},
   "outputs": [
    {
     "data": {
      "text/plain": [
       "<AxesSubplot:xlabel='Date', ylabel='Total_revenue'>"
      ]
     },
     "execution_count": 288,
     "metadata": {},
     "output_type": "execute_result"
    },
    {
     "data": {
      "image/png": "[encoded data removed]",
      "text/plain": [
       "<Figure size 288x288 with 1 Axes>"
      ]
     },
     "metadata": {
      "needs_background": "light"
     },
     "output_type": "display_data"
    }
   ],
   "source": [
    "# plotting\n",
    "fig, ax = plt.subplots(figsize=(4,4))\n",
    "sb.barplot(x=total_sales_by_month.index, \n",
    "           y='Total_revenue', \n",
    "           data=total_sales_by_month, \n",
    "           ci=95, \n",
    "           palette='winter')\n",
    "#ax.set_xticklabels(labels=max_sales['Date'], rotation='vertical') #optional: for vertical orientation of xlabels"
   ]
  },
  {
   "cell_type": "markdown",
   "metadata": {},
   "source": [
    "#### we observe month 1 generated higher revenue compared to month 2 and month 3"
   ]
  },
  {
   "cell_type": "markdown",
   "metadata": {},
   "source": [
    "### Hospital wise total sales"
   ]
  },
  {
   "cell_type": "code",
   "execution_count": 289,
   "metadata": {},
   "outputs": [
    {
     "data": {
      "text/html": [
       "<div>\n",
       "<style scoped>\n",
       "    .dataframe tbody tr th:only-of-type {\n",
       "        vertical-align: middle;\n",
       "    }\n",
       "\n",
       "    .dataframe tbody tr th {\n",
       "        vertical-align: top;\n",
       "    }\n",
       "\n",
       "    .dataframe thead th {\n",
       "        text-align: right;\n",
       "    }\n",
       "</style>\n",
       "<table border=\"1\" class=\"dataframe\">\n",
       "  <thead>\n",
       "    <tr style=\"text-align: right;\">\n",
       "      <th></th>\n",
       "      <th>Unit_price</th>\n",
       "      <th>Total_volume</th>\n",
       "      <th>Total_revenue</th>\n",
       "    </tr>\n",
       "    <tr>\n",
       "      <th>Hospital</th>\n",
       "      <th></th>\n",
       "      <th></th>\n",
       "      <th></th>\n",
       "    </tr>\n",
       "  </thead>\n",
       "  <tbody>\n",
       "    <tr>\n",
       "      <th>H2</th>\n",
       "      <td>1800</td>\n",
       "      <td>902</td>\n",
       "      <td>1623600</td>\n",
       "    </tr>\n",
       "    <tr>\n",
       "      <th>H4</th>\n",
       "      <td>1800</td>\n",
       "      <td>854</td>\n",
       "      <td>1537200</td>\n",
       "    </tr>\n",
       "    <tr>\n",
       "      <th>H5</th>\n",
       "      <td>1600</td>\n",
       "      <td>911</td>\n",
       "      <td>1457600</td>\n",
       "    </tr>\n",
       "    <tr>\n",
       "      <th>H1</th>\n",
       "      <td>1500</td>\n",
       "      <td>971</td>\n",
       "      <td>1456500</td>\n",
       "    </tr>\n",
       "    <tr>\n",
       "      <th>H6</th>\n",
       "      <td>1500</td>\n",
       "      <td>920</td>\n",
       "      <td>1380000</td>\n",
       "    </tr>\n",
       "  </tbody>\n",
       "</table>\n",
       "</div>"
      ],
      "text/plain": [
       "          Unit_price  Total_volume  Total_revenue\n",
       "Hospital                                         \n",
       "H2              1800           902        1623600\n",
       "H4              1800           854        1537200\n",
       "H5              1600           911        1457600\n",
       "H1              1500           971        1456500\n",
       "H6              1500           920        1380000"
      ]
     },
     "execution_count": 289,
     "metadata": {},
     "output_type": "execute_result"
    }
   ],
   "source": [
    "total_sales_by_hosp = monthly_sales_sorted[['Hospital', 'Date','Unit_price', 'Total_volume', 'Total_revenue']].groupby('Hospital').agg(agg_params)\n",
    "total_sales_by_hosp.sort_values(by='Total_revenue', ascending=False, inplace=True)\n",
    "total_sales_by_hosp.head()"
   ]
  },
  {
   "cell_type": "code",
   "execution_count": 290,
   "metadata": {},
   "outputs": [
    {
     "data": {
      "text/plain": [
       "Text(0, 0.5, 'Value')"
      ]
     },
     "execution_count": 290,
     "metadata": {},
     "output_type": "execute_result"
    },
    {
     "data": {
      "image/png": "[encoded data removed]",
      "text/plain": [
       "<Figure size 1080x288 with 2 Axes>"
      ]
     },
     "metadata": {
      "needs_background": "light"
     },
     "output_type": "display_data"
    }
   ],
   "source": [
    "from matplotlib.lines import Line2D\n",
    "\n",
    "fig, ax = plt.subplots(1, 2, figsize=(15,4), sharex=False, sharey=False)\n",
    "sb.pointplot(x=total_sales_by_hosp.index, y='Unit_price', data=total_sales_by_hosp, ax=ax[0])\n",
    "sb.pointplot(x=total_sales_by_hosp.index, y='Total_volume', color='green', data=total_sales_by_hosp, ax=ax[0])\n",
    "sb.barplot(x=total_sales_by_hosp.index, y='Total_revenue', ci=95, data=total_sales_by_hosp, ax=ax[1], palette='winter')\n",
    "\n",
    "legend_elements = [Line2D([0], [0], color='blue'),\n",
    "                   Line2D([0], [0], color='green')]\n",
    "ax[0].legend(handles = legend_elements, labels=['Unit_price', 'Total_volume'], loc='best')\n",
    "ax[0].set_ylabel('Value')"
   ]
  },
  {
   "cell_type": "markdown",
   "metadata": {},
   "source": [
    "#### We observe:\n",
    "#### H2 generated highest revenue compared to other hospitals\n",
    "#### H2 and H4 has higher sales compared to H5, H1, H6 and H3 whhich can be attributed to higher unit price\n",
    "#### H2 is comparitively better that H4 interms of revenue which can be attributed to higher volume comapred to H4\n",
    "#### H3 is the lowest revenue generator as it has both lower unit price as well as lower volume compared to other hospitals"
   ]
  },
  {
   "cell_type": "markdown",
   "metadata": {},
   "source": [
    "### Percentage contribution of each individual hospital to overall revenue"
   ]
  },
  {
   "cell_type": "code",
   "execution_count": 291,
   "metadata": {},
   "outputs": [
    {
     "data": {
      "image/png": "[encoded data removed]",
      "text/plain": [
       "<Figure size 432x432 with 1 Axes>"
      ]
     },
     "metadata": {},
     "output_type": "display_data"
    }
   ],
   "source": [
    "fig, ax = plt.subplots(figsize=(6,6))\n",
    "fig = plt.pie(total_sales_by_hosp['Total_revenue'], \n",
    "              labels=total_sales_by_hosp.index,\n",
    "              autopct='%1.2f%%')"
   ]
  },
  {
   "cell_type": "markdown",
   "metadata": {},
   "source": [
    "#### H4 is the most significant contributor (18.68%) to the overall revenue compared to other hospitals"
   ]
  },
  {
   "cell_type": "markdown",
   "metadata": {},
   "source": [
    "### Month wise sales comparizon of each hospital"
   ]
  },
  {
   "cell_type": "code",
   "execution_count": 299,
   "metadata": {},
   "outputs": [
    {
     "data": {
      "text/html": [
       "<div>\n",
       "<style scoped>\n",
       "    .dataframe tbody tr th:only-of-type {\n",
       "        vertical-align: middle;\n",
       "    }\n",
       "\n",
       "    .dataframe tbody tr th {\n",
       "        vertical-align: top;\n",
       "    }\n",
       "\n",
       "    .dataframe thead th {\n",
       "        text-align: right;\n",
       "    }\n",
       "</style>\n",
       "<table border=\"1\" class=\"dataframe\">\n",
       "  <thead>\n",
       "    <tr style=\"text-align: right;\">\n",
       "      <th></th>\n",
       "      <th>Hospital</th>\n",
       "      <th>Date</th>\n",
       "      <th>Total_volume</th>\n",
       "      <th>Unit_price</th>\n",
       "      <th>Total_revenue</th>\n",
       "      <th>Min_rating</th>\n",
       "      <th>Max_rating</th>\n",
       "    </tr>\n",
       "  </thead>\n",
       "  <tbody>\n",
       "    <tr>\n",
       "      <th>0</th>\n",
       "      <td>H2</td>\n",
       "      <td>2019-01</td>\n",
       "      <td>336</td>\n",
       "      <td>1800</td>\n",
       "      <td>604800</td>\n",
       "      <td>4.1</td>\n",
       "      <td>9.9</td>\n",
       "    </tr>\n",
       "    <tr>\n",
       "      <th>1</th>\n",
       "      <td>H6</td>\n",
       "      <td>2019-01</td>\n",
       "      <td>375</td>\n",
       "      <td>1500</td>\n",
       "      <td>562500</td>\n",
       "      <td>4.1</td>\n",
       "      <td>9.9</td>\n",
       "    </tr>\n",
       "    <tr>\n",
       "      <th>2</th>\n",
       "      <td>H5</td>\n",
       "      <td>2019-01</td>\n",
       "      <td>342</td>\n",
       "      <td>1600</td>\n",
       "      <td>547200</td>\n",
       "      <td>4.1</td>\n",
       "      <td>9.8</td>\n",
       "    </tr>\n",
       "    <tr>\n",
       "      <th>3</th>\n",
       "      <td>H1</td>\n",
       "      <td>2019-01</td>\n",
       "      <td>333</td>\n",
       "      <td>1500</td>\n",
       "      <td>499500</td>\n",
       "      <td>4.0</td>\n",
       "      <td>9.8</td>\n",
       "    </tr>\n",
       "    <tr>\n",
       "      <th>4</th>\n",
       "      <td>H4</td>\n",
       "      <td>2019-01</td>\n",
       "      <td>254</td>\n",
       "      <td>1800</td>\n",
       "      <td>457200</td>\n",
       "      <td>4.0</td>\n",
       "      <td>9.9</td>\n",
       "    </tr>\n",
       "  </tbody>\n",
       "</table>\n",
       "</div>"
      ],
      "text/plain": [
       "  Hospital     Date  Total_volume  Unit_price  Total_revenue  Min_rating  \\\n",
       "0       H2  2019-01           336        1800         604800         4.1   \n",
       "1       H6  2019-01           375        1500         562500         4.1   \n",
       "2       H5  2019-01           342        1600         547200         4.1   \n",
       "3       H1  2019-01           333        1500         499500         4.0   \n",
       "4       H4  2019-01           254        1800         457200         4.0   \n",
       "\n",
       "   Max_rating  \n",
       "0         9.9  \n",
       "1         9.9  \n",
       "2         9.8  \n",
       "3         9.8  \n",
       "4         9.9  "
      ]
     },
     "execution_count": 299,
     "metadata": {},
     "output_type": "execute_result"
    }
   ],
   "source": [
    "sorted_keys = total_sales_by_month.index.tolist()\n",
    "\n",
    "final_sort = pd.DataFrame()\n",
    "\n",
    "grp = monthly_sales_sorted.groupby('Date').apply(lambda x: x.sort_values(by='Total_revenue', ascending=False))\n",
    "\n",
    "for idx in sorted_keys:\n",
    "    final_sort = final_sort.append(grp.loc[idx])\n",
    "    \n",
    "final_sort.reset_index(inplace=True, drop=True)\n",
    "final_sort.head()"
   ]
  },
  {
   "cell_type": "code",
   "execution_count": 287,
   "metadata": {},
   "outputs": [
    {
     "data": {
      "text/plain": [
       "<seaborn.axisgrid.FacetGrid at 0x201e4f5ec48>"
      ]
     },
     "execution_count": 287,
     "metadata": {},
     "output_type": "execute_result"
    },
    {
     "data": {
      "image/png": "[encoded data removed]",
      "text/plain": [
       "<Figure size 872x288 with 3 Axes>"
      ]
     },
     "metadata": {
      "needs_background": "light"
     },
     "output_type": "display_data"
    }
   ],
   "source": [
    "monthly_fg = sb.FacetGrid(final_sort, \n",
    "                       col='Date',\n",
    "                       col_wrap=3,\n",
    "                       height=4,                       \n",
    "                       aspect=1, \n",
    "                       palette='winter',\n",
    "                       legend_out=True,\n",
    "                       sharex=False,\n",
    "                       margin_titles=True)\n",
    "monthly_fg.map_dataframe(sb.barplot, 'Hospital', 'Total_revenue')\n",
    "monthly_fg.add_legend()"
   ]
  },
  {
   "cell_type": "markdown",
   "metadata": {},
   "source": [
    "#### we observe:\n",
    "#### Month 1: H2 has highest sales followed by H6, H5, H1, H4, H3\n",
    "#### Month 3: H4 has highest sales followed by H5, H2, H1, H6, H3\n",
    "#### Month 3: H2 has highest sales followed by H4, H1, H3, H6, H5"
   ]
  },
  {
   "cell_type": "markdown",
   "metadata": {},
   "source": [
    "### Month wise relationship between revenue vs volume and unit price of each hospital"
   ]
  },
  {
   "cell_type": "code",
   "execution_count": 468,
   "metadata": {},
   "outputs": [],
   "source": [
    "final_melt = final_sort[['Hospital', 'Date', 'Unit_price', 'Total_volume', 'Total_revenue']].groupby('Date')\n",
    "group_dict = {}\n",
    "for name, grp in final_melt:\n",
    "    group_dict[name] = grp.reset_index(drop=True)"
   ]
  },
  {
   "cell_type": "code",
   "execution_count": 470,
   "metadata": {},
   "outputs": [
    {
     "data": {
      "text/plain": [
       "Text(0.5, 1.0, '2019-03')"
      ]
     },
     "execution_count": 470,
     "metadata": {},
     "output_type": "execute_result"
    },
    {
     "data": {
      "image/png": "[encoded data removed]",
      "text/plain": [
       "<Figure size 720x720 with 6 Axes>"
      ]
     },
     "metadata": {
      "needs_background": "light"
     },
     "output_type": "display_data"
    }
   ],
   "source": [
    "fig, ax = plt.subplots(3, 2, figsize=(10,10), sharex=False, sharey=False)\n",
    "plt.subplots_adjust(left=0.5, right=1.5, hspace=0.5)\n",
    "\n",
    "p1 = sb.scatterplot(x='Unit_price', y='Total_volume', hue='Hospital', data=group_dict['2019-01'], ax=ax[0][1])\n",
    "p1.legend(loc='center right', bbox_to_anchor=(1.2, 0.5), ncol=1, title='Hospital')\n",
    "p1b = sb.barplot(x='Hospital', y='Total_revenue', ci=95, data=group_dict['2019-01'],palette='winter', ax=ax[0][0])\n",
    "p1.set_title('2019-01')\n",
    "p1b.set_title('2019-01')\n",
    "\n",
    "p2 = sb.scatterplot(x='Unit_price', y='Total_volume', hue='Hospital', data=group_dict['2019-02'], ax=ax[1][1])\n",
    "p2.legend(loc='center right', bbox_to_anchor=(1.2, 0.5), ncol=1, title='Hospital')\n",
    "p2b = sb.barplot(x='Hospital', y='Total_revenue', ci=95, data=group_dict['2019-02'],palette='winter', ax=ax[1][0])\n",
    "p2.set_title('2019-02')\n",
    "p2b.set_title('2019-02')\n",
    "\n",
    "p3 = sb.scatterplot(x='Unit_price', y='Total_volume', hue='Hospital', data=group_dict['2019-03'], ax=ax[2][1])\n",
    "p3.legend(loc='center right', bbox_to_anchor=(1.2, 0.5), ncol=1, title='Hospital')\n",
    "p3b = sb.barplot(x='Hospital', y='Total_revenue', ci=95, data=group_dict['2019-03'],palette='winter', ax=ax[2][0])\n",
    "p3.set_title('2019-03')\n",
    "p3b.set_title('2019-03')"
   ]
  },
  {
   "cell_type": "markdown",
   "metadata": {},
   "source": [
    "#### we had already seen through previous charts and plots that total revenue is directly proportional to volume and unit price\n",
    "#### Month 1 : H6 has generated hishest sales as it has higher unit price and generated higher volume\n",
    "#### Month 2 : H3 has higher volume compared to other hospitals but it wasnt able generated higher sales as it has lower unit price. Whereas H2 generated higher revenue at it has higher unit price\n",
    "#### Month 3 : H4 generated higher sales compared to others as it has higher unit price. H5 has higher volume compared to other hospitals but it wasnt able generated higher sales as it has lower unit price compared to H4 and H2"
   ]
  },
  {
   "cell_type": "markdown",
   "metadata": {},
   "source": [
    "### Final summary plot"
   ]
  },
  {
   "cell_type": "code",
   "execution_count": 242,
   "metadata": {},
   "outputs": [
    {
     "data": {
      "text/plain": [
       "<seaborn.axisgrid.PairGrid at 0x201d773ec88>"
      ]
     },
     "execution_count": 242,
     "metadata": {},
     "output_type": "execute_result"
    },
    {
     "data": {
      "image/png": "[encoded data removed]",
      "text/plain": [
       "<Figure size 913.875x864 with 12 Axes>"
      ]
     },
     "metadata": {
      "needs_background": "light"
     },
     "output_type": "display_data"
    }
   ],
   "source": [
    "final_pp = final_sort.drop(['Min_rating', 'Max_rating'], axis=1)\n",
    "sb.pairplot(final_pp, hue='Hospital', diag_kind='hist', height=4)"
   ]
  },
  {
   "cell_type": "markdown",
   "metadata": {},
   "source": [
    "#### This plots summarizes all the insights derieved earlier."
   ]
  },
  {
   "cell_type": "code",
   "execution_count": null,
   "metadata": {},
   "outputs": [],
   "source": []
  }
 ],
 "metadata": {
  "kernelspec": {
   "display_name": "Python 3",
   "language": "python",
   "name": "python3"
  },
  "language_info": {
   "codemirror_mode": {
    "name": "ipython",
    "version": 3
   },
   "file_extension": ".py",
   "mimetype": "text/x-python",
   "name": "python",
   "nbconvert_exporter": "python",
   "pygments_lexer": "ipython3",
   "version": "3.7.8"
  }
 },
 "nbformat": 4,
 "nbformat_minor": 4
}
